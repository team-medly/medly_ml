{
 "cells": [
  {
   "cell_type": "code",
   "execution_count": 20,
   "metadata": {},
   "outputs": [
    {
     "name": "stdout",
     "output_type": "stream",
     "text": [
      "Guidelines for laparoscopic cholecystectomy?\n",
      "korean\n"
     ]
    }
   ],
   "source": [
    "from lingua import LanguageDetectorBuilder, Language\n",
    "from deep_translator import GoogleTranslator\n",
    "import re\n",
    "detector = LanguageDetectorBuilder.from_all_languages().build()\n",
    "\n",
    "\n",
    "def detect_language(text):\n",
    "    \"\"\"Detect the language of a given text\"\"\"\n",
    "    if re.search(r\"[가-힣]\", text):\n",
    "        return \"korean\"  # 한글이 포함되어 있다면 무조건 'korean' 반환\n",
    "    \n",
    "    detected_language = detector.detect_language_of(text)\n",
    "    \n",
    "    if detected_language is not None:\n",
    "        return detected_language.name.lower()  # 감지된 언어의 이름을 소문자로 반환\n",
    "    return \"unknown\"  # 감지 실패 시 'unknown' 반환\n",
    "\n",
    "def translate_to_english(text):\n",
    "    \"\"\"Translate user input to english using Google Translator API\"\"\"\n",
    "    try:\n",
    "        translator = GoogleTranslator(source='auto', target='en')\n",
    "        return translator.translate(text)\n",
    "    except Exception as e:\n",
    "        print(f\"Translation error: {e}\")\n",
    "        return text  # 번역 실패 시 원본 텍스트 반환\n",
    "\n",
    "prompt = \"복강경절제술의 가이드라인?\"\n",
    "detected_lan = detect_language(prompt)\n",
    "translated_lan = translate_to_english(prompt)\n",
    "\n",
    "\n",
    "print(translated_lan)\n",
    "print(detected_lan)"
   ]
  },
  {
   "cell_type": "code",
   "execution_count": 2,
   "metadata": {},
   "outputs": [
    {
     "name": "stdout",
     "output_type": "stream",
     "text": [
      "Collecting lingua-language-detector\n",
      "  Downloading lingua_language_detector-2.0.2-cp312-none-win_amd64.whl.metadata (353 kB)\n",
      "Downloading lingua_language_detector-2.0.2-cp312-none-win_amd64.whl (73.3 MB)\n",
      "   ---------------------------------------- 0.0/73.3 MB ? eta -:--:--\n",
      "    --------------------------------------- 1.6/73.3 MB 9.3 MB/s eta 0:00:08\n",
      "   - -------------------------------------- 3.1/73.3 MB 9.2 MB/s eta 0:00:08\n",
      "   -- ------------------------------------- 4.7/73.3 MB 7.7 MB/s eta 0:00:09\n",
      "   --- ------------------------------------ 6.6/73.3 MB 8.1 MB/s eta 0:00:09\n",
      "   ---- ----------------------------------- 8.9/73.3 MB 8.5 MB/s eta 0:00:08\n",
      "   ------ --------------------------------- 11.0/73.3 MB 8.8 MB/s eta 0:00:08\n",
      "   ------ --------------------------------- 12.3/73.3 MB 8.3 MB/s eta 0:00:08\n",
      "   ------- -------------------------------- 14.2/73.3 MB 8.5 MB/s eta 0:00:07\n",
      "   -------- ------------------------------- 16.0/73.3 MB 8.5 MB/s eta 0:00:07\n",
      "   --------- ------------------------------ 17.8/73.3 MB 8.5 MB/s eta 0:00:07\n",
      "   ---------- ----------------------------- 19.9/73.3 MB 8.6 MB/s eta 0:00:07\n",
      "   ------------ --------------------------- 22.0/73.3 MB 8.6 MB/s eta 0:00:06\n",
      "   ------------- -------------------------- 23.9/73.3 MB 8.7 MB/s eta 0:00:06\n",
      "   -------------- ------------------------- 26.0/73.3 MB 8.8 MB/s eta 0:00:06\n",
      "   --------------- ------------------------ 28.0/73.3 MB 8.8 MB/s eta 0:00:06\n",
      "   ---------------- ----------------------- 30.1/73.3 MB 8.9 MB/s eta 0:00:05\n",
      "   ----------------- ---------------------- 32.0/73.3 MB 8.9 MB/s eta 0:00:05\n",
      "   ------------------ --------------------- 33.8/73.3 MB 8.9 MB/s eta 0:00:05\n",
      "   ------------------- -------------------- 34.9/73.3 MB 8.7 MB/s eta 0:00:05\n",
      "   -------------------- ------------------- 37.0/73.3 MB 8.7 MB/s eta 0:00:05\n",
      "   --------------------- ------------------ 39.1/73.3 MB 8.8 MB/s eta 0:00:04\n",
      "   ---------------------- ----------------- 41.2/73.3 MB 8.8 MB/s eta 0:00:04\n",
      "   ----------------------- ---------------- 43.0/73.3 MB 8.9 MB/s eta 0:00:04\n",
      "   ------------------------ --------------- 44.3/73.3 MB 8.7 MB/s eta 0:00:04\n",
      "   ------------------------- -------------- 46.4/73.3 MB 8.7 MB/s eta 0:00:04\n",
      "   ------------------------- -------------- 47.4/73.3 MB 8.6 MB/s eta 0:00:04\n",
      "   -------------------------- ------------- 49.3/73.3 MB 8.6 MB/s eta 0:00:03\n",
      "   --------------------------- ------------ 51.1/73.3 MB 8.6 MB/s eta 0:00:03\n",
      "   ---------------------------- ----------- 52.7/73.3 MB 8.6 MB/s eta 0:00:03\n",
      "   ----------------------------- ---------- 54.0/73.3 MB 8.5 MB/s eta 0:00:03\n",
      "   ------------------------------ --------- 56.1/73.3 MB 8.5 MB/s eta 0:00:03\n",
      "   ------------------------------- -------- 58.2/73.3 MB 8.6 MB/s eta 0:00:02\n",
      "   -------------------------------- ------- 60.0/73.3 MB 8.6 MB/s eta 0:00:02\n",
      "   ---------------------------------- ----- 62.4/73.3 MB 8.7 MB/s eta 0:00:02\n",
      "   ----------------------------------- ---- 64.5/73.3 MB 8.7 MB/s eta 0:00:02\n",
      "   ------------------------------------ --- 66.8/73.3 MB 8.8 MB/s eta 0:00:01\n",
      "   ------------------------------------- -- 68.7/73.3 MB 8.8 MB/s eta 0:00:01\n",
      "   -------------------------------------- - 70.5/73.3 MB 8.8 MB/s eta 0:00:01\n",
      "   ---------------------------------------  72.4/73.3 MB 8.8 MB/s eta 0:00:01\n",
      "   ---------------------------------------- 73.3/73.3 MB 8.7 MB/s eta 0:00:00\n",
      "Installing collected packages: lingua-language-detector\n",
      "Successfully installed lingua-language-detector-2.0.2\n",
      "Note: you may need to restart the kernel to use updated packages.\n"
     ]
    },
    {
     "name": "stderr",
     "output_type": "stream",
     "text": [
      "\n",
      "[notice] A new release of pip is available: 24.2 -> 25.0\n",
      "[notice] To update, run: python.exe -m pip install --upgrade pip\n"
     ]
    }
   ],
   "source": [
    "%pip install lingua-language-detector\n"
   ]
  }
 ],
 "metadata": {
  "kernelspec": {
   "display_name": "Python 3",
   "language": "python",
   "name": "python3"
  },
  "language_info": {
   "codemirror_mode": {
    "name": "ipython",
    "version": 3
   },
   "file_extension": ".py",
   "mimetype": "text/x-python",
   "name": "python",
   "nbconvert_exporter": "python",
   "pygments_lexer": "ipython3",
   "version": "3.12.5"
  }
 },
 "nbformat": 4,
 "nbformat_minor": 2
}
