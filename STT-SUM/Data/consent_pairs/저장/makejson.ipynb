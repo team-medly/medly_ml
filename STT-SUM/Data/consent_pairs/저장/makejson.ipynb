{
 "cells": [
  {
   "cell_type": "code",
   "execution_count": 1,
   "metadata": {},
   "outputs": [
    {
     "name": "stdout",
     "output_type": "stream",
     "text": [
      "JSON 파일이 'transcripts.json'로 저장되었습니다.\n"
     ]
    }
   ],
   "source": [
    "import json\n",
    "\n",
    "# 오디오 파일과 텍스트 데이터 입력\n",
    "data = [\n",
    "    {\"audio_file_name\": \"01-01.wav\", \"text\": \"복강경 담낭절제술 동의서 등록번호 환자명 나이 성별 시행예정일 진단명 다음의 설명 내용은 의료진이 환자 본인이나 대리인(보호자)에게 환자가 시행 받을 수술에 대한 정보를 제공하여 환자 본인이나 대리인(보호자)이 자의에 따라 수술여부를 결정할 수 있도록 하기 위한 것입니다. 설명 내용 중 이해가 되지 않는 부분이 있다면 설명하는 의료진에게 추가 설명을 요청할 수 있습니다. \"},\n",
    "    \n",
    "]\n",
    "\n",
    "# JSON 파일로 저장\n",
    "output_file = \"transcripts.json\"\n",
    "with open(output_file, \"w\", encoding=\"utf-8\") as file:\n",
    "    json.dump(data, file, ensure_ascii=False, indent=4)\n",
    "\n",
    "print(f\"JSON 파일이 '{output_file}'로 저장되었습니다.\")\n"
   ]
  }
 ],
 "metadata": {
  "kernelspec": {
   "display_name": "team3",
   "language": "python",
   "name": "python3"
  },
  "language_info": {
   "codemirror_mode": {
    "name": "ipython",
    "version": 3
   },
   "file_extension": ".py",
   "mimetype": "text/x-python",
   "name": "python",
   "nbconvert_exporter": "python",
   "pygments_lexer": "ipython3",
   "version": "3.13.1"
  }
 },
 "nbformat": 4,
 "nbformat_minor": 2
}
