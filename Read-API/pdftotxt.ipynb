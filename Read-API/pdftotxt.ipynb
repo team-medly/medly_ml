{
 "cells": [
  {
   "cell_type": "markdown",
   "metadata": {},
   "source": [
    "# Azure Read API:\n",
    "기존 OCR 기능보다 더 정밀하게 텍스트를 블록, 줄(line), 단어(word) 단위로 인식.\n",
    "Read API는 PDF 파일의 전체 텍스트를 더 잘 정리된 형태로 반환."
   ]
  },
  {
   "cell_type": "markdown",
   "metadata": {},
   "source": [
    "pip install azure-cognitiveservices-vision-computervision\n",
    "pip install msrest\n",
    "pip install requests\n"
   ]
  },
  {
   "cell_type": "code",
   "execution_count": 4,
   "metadata": {},
   "outputs": [
    {
     "name": "stdout",
     "output_type": "stream",
     "text": [
      "OCR 처리 중...\n",
      "OCR 결과가 'results\\복강경담낭절제술.txt' 파일에 저장되었습니다!\n"
     ]
    }
   ],
   "source": [
    "from azure.cognitiveservices.vision.computervision import ComputerVisionClient\n",
    "from azure.cognitiveservices.vision.computervision.models import OperationStatusCodes\n",
    "from msrest.authentication import CognitiveServicesCredentials\n",
    "import time\n",
    "import os\n",
    "\n",
    "# Azure Computer Vision 설정\n",
    "subscription_key = \"FQPue8cIR514gwydZdn1xstorLwXFohwwXi0morkCwLxybsl7wnyJQQJ99BAACHYHv6XJ3w3AAAFACOGHyEy\"\n",
    "endpoint = \"https://team3-computervision.cognitiveservices.azure.com/\"\n",
    "\n",
    "# Computer Vision Client 생성\n",
    "computervision_client = ComputerVisionClient(endpoint, CognitiveServicesCredentials(subscription_key))\n",
    "\n",
    "# PDF 파일 경로 설정\n",
    "pdf_path = \"pdf/복강경담낭절제술.pdf\"  # OCR을 실행할 입력 파일\n",
    "input_file_name = os.path.basename(pdf_path).split('.')[0]  # 파일 이름 추출 (확장자 제외)\n",
    "\n",
    "# 결과 파일 경로 설정\n",
    "results_folder = \"results\"  # 결과 파일을 저장할 폴더 이름\n",
    "os.makedirs(results_folder, exist_ok=True)  # 폴더가 없으면 생성\n",
    "output_file = os.path.join(results_folder, f\"{input_file_name}.txt\")  # 저장 파일 경로\n",
    "\n",
    "# PDF를 OCR 처리 (Read API)\n",
    "with open(pdf_path, \"rb\") as pdf_file:\n",
    "    read_response = computervision_client.read_in_stream(pdf_file, raw=True)\n",
    "\n",
    "# Operation ID 가져오기\n",
    "operation_location = read_response.headers[\"Operation-Location\"]\n",
    "operation_id = operation_location.split(\"/\")[-1]\n",
    "\n",
    "# OCR 처리 상태 확인\n",
    "print(\"OCR 처리 중...\")\n",
    "while True:\n",
    "    result = computervision_client.get_read_result(operation_id)\n",
    "    if result.status not in [OperationStatusCodes.running, OperationStatusCodes.not_started]:\n",
    "        break\n",
    "    time.sleep(1)\n",
    "\n",
    "# 결과 저장\n",
    "if result.status == OperationStatusCodes.succeeded:\n",
    "    with open(output_file, \"w\", encoding=\"utf-8\") as file:\n",
    "        for page in result.analyze_result.read_results:\n",
    "            for line in page.lines:\n",
    "                file.write(line.text + \"\\n\")  # 텍스트만 저장\n",
    "    print(f\"OCR 결과가 '{output_file}' 파일에 저장되었습니다!\")\n",
    "else:\n",
    "    print(\"OCR 처리가 실패하였습니다.\")"
   ]
  },
  {
   "cell_type": "markdown",
   "metadata": {},
   "source": [
    "# 확장자에 따라 이미지 파일도 가능하게 변경한 코드"
   ]
  },
  {
   "cell_type": "code",
   "execution_count": null,
   "metadata": {},
   "outputs": [
    {
     "name": "stdout",
     "output_type": "stream",
     "text": [
      "OCR 처리 중...\n",
      "OCR 결과가 'results\\K-013.txt' 파일에 저장되었습니다!\n"
     ]
    }
   ],
   "source": [
    "from azure.cognitiveservices.vision.computervision import ComputerVisionClient\n",
    "from azure.cognitiveservices.vision.computervision.models import OperationStatusCodes\n",
    "from msrest.authentication import CognitiveServicesCredentials\n",
    "import time\n",
    "import os\n",
    "\n",
    "# Azure Computer Vision 설정\n",
    "subscription_key = \"FQPue8cIR514gwydZdn1xstorLwXFohwwXi0morkCwLxybsl7wnyJQQJ99BAACHYHv6XJ3w3AAAFACOGHyEy\"\n",
    "endpoint = \"https://team3-computervision.cognitiveservices.azure.com/\"\n",
    "\n",
    "# Computer Vision Client 생성\n",
    "computervision_client = ComputerVisionClient(endpoint, CognitiveServicesCredentials(subscription_key))\n",
    "\n",
    "# 입력 파일 경로 설정\n",
    "input_file_path = \"img/K-014.jpg\"  # OCR을 실행할 입력 파일\n",
    "input_file_name = os.path.basename(input_file_path).split('.')[0]  # 파일 이름 추출 (확장자 제외)\n",
    "\n",
    "# 결과 파일 경로 설정\n",
    "results_folder = \"results\"  # 결과 파일을 저장할 폴더 이름\n",
    "os.makedirs(results_folder, exist_ok=True)  # 폴더가 없으면 생성\n",
    "output_file = os.path.join(results_folder, f\"{input_file_name}.txt\")  # 저장 파일 경로\n",
    "\n",
    "# 파일 유형 확인\n",
    "file_extension = os.path.splitext(input_file_path)[-1].lower()\n",
    "\n",
    "# OCR 처리 함수 정의\n",
    "def perform_ocr(file_path, is_pdf):\n",
    "    with open(file_path, \"rb\") as file:  # 파일을 바이너리 모드로 열기\n",
    "        read_response = computervision_client.read_in_stream(file, raw=True)\n",
    "\n",
    "    # Operation ID 가져오기\n",
    "    operation_location = read_response.headers[\"Operation-Location\"]\n",
    "    operation_id = operation_location.split(\"/\")[-1]\n",
    "\n",
    "    # OCR 처리 상태 확인\n",
    "    print(\"OCR 처리 중...\")\n",
    "    while True:\n",
    "        result = computervision_client.get_read_result(operation_id)\n",
    "        if result.status not in [OperationStatusCodes.running, OperationStatusCodes.not_started]:\n",
    "            break\n",
    "        time.sleep(1)\n",
    "\n",
    "    return result\n",
    "\n",
    "\n",
    "# OCR 처리 실행\n",
    "if file_extension == \".pdf\":\n",
    "    ocr_result = perform_ocr(input_file_path, is_pdf=True)\n",
    "else:\n",
    "    ocr_result = perform_ocr(input_file_path, is_pdf=False)\n",
    "\n",
    "# 결과 저장\n",
    "if ocr_result.status == OperationStatusCodes.succeeded:\n",
    "    with open(output_file, \"w\", encoding=\"utf-8\") as file:\n",
    "        for page in ocr_result.analyze_result.read_results:\n",
    "            for line in page.lines:\n",
    "                file.write(line.text + \"\\n\")  # 텍스트만 저장\n",
    "    print(f\"OCR 결과가 '{output_file}' 파일에 저장되었습니다!\")\n",
    "else:\n",
    "    print(\"OCR 처리가 실패하였습니다.\")\n"
   ]
  },
  {
   "cell_type": "markdown",
   "metadata": {},
   "source": [
    "# 폴더안의 모든 이미지 파일을 변환하는 코드로 변경"
   ]
  },
  {
   "cell_type": "code",
   "execution_count": 1,
   "metadata": {},
   "outputs": [
    {
     "name": "stdout",
     "output_type": "stream",
     "text": [
      "img\\K-013.jpg OCR 처리 중...\n",
      "OCR 결과가 'results\\K-013.txt' 파일에 저장되었습니다!\n"
     ]
    }
   ],
   "source": [
    "from azure.cognitiveservices.vision.computervision import ComputerVisionClient\n",
    "from azure.cognitiveservices.vision.computervision.models import OperationStatusCodes\n",
    "from msrest.authentication import CognitiveServicesCredentials\n",
    "import time\n",
    "import os\n",
    "\n",
    "# Azure Computer Vision 설정\n",
    "subscription_key = \"FQPue8cIR514gwydZdn1xstorLwXFohwwXi0morkCwLxybsl7wnyJQQJ99BAACHYHv6XJ3w3AAAFACOGHyEy\"\n",
    "endpoint = \"https://team3-computervision.cognitiveservices.azure.com/\"\n",
    "\n",
    "# Computer Vision Client 생성\n",
    "computervision_client = ComputerVisionClient(endpoint, CognitiveServicesCredentials(subscription_key))\n",
    "\n",
    "# 입력 파일들이 있는 폴더 경로 설정\n",
    "input_folder_path = \"img\"  # 이미지 파일들이 저장된 폴더 경로\n",
    "results_folder = \"results\"  # 결과 파일을 저장할 폴더 이름\n",
    "os.makedirs(results_folder, exist_ok=True)  # 결과 폴더 생성\n",
    "\n",
    "# OCR 처리 함수 정의\n",
    "def perform_ocr(file_path):\n",
    "    with open(file_path, \"rb\") as file:  # 파일을 바이너리 모드로 열기\n",
    "        read_response = computervision_client.read_in_stream(file, raw=True)\n",
    "\n",
    "    # Operation ID 가져오기\n",
    "    operation_location = read_response.headers[\"Operation-Location\"]\n",
    "    operation_id = operation_location.split(\"/\")[-1]\n",
    "\n",
    "    # OCR 처리 상태 확인\n",
    "    print(f\"{file_path} OCR 처리 중...\")\n",
    "    while True:\n",
    "        result = computervision_client.get_read_result(operation_id)\n",
    "        if result.status not in [OperationStatusCodes.running, OperationStatusCodes.not_started]:\n",
    "            break\n",
    "        time.sleep(1)\n",
    "\n",
    "    return result\n",
    "\n",
    "# 폴더 내 모든 이미지 파일 처리\n",
    "supported_extensions = [\".jpg\", \".jpeg\", \".png\", \".bmp\", \".gif\"]  # 지원되는 이미지 확장자\n",
    "image_files = [\n",
    "    os.path.join(input_folder_path, f)\n",
    "    for f in os.listdir(input_folder_path)\n",
    "    if os.path.splitext(f)[-1].lower() in supported_extensions\n",
    "]\n",
    "\n",
    "# 이미지 파일별 OCR 실행 및 결과 저장\n",
    "for image_file in image_files:\n",
    "    input_file_name = os.path.basename(image_file).split('.')[0]  # 파일 이름 추출 (확장자 제외)\n",
    "    output_file = os.path.join(results_folder, f\"{input_file_name}.txt\")  # 저장 파일 경로\n",
    "\n",
    "    # OCR 수행\n",
    "    ocr_result = perform_ocr(image_file)\n",
    "\n",
    "    # 결과 저장\n",
    "    if ocr_result.status == OperationStatusCodes.succeeded:\n",
    "        with open(output_file, \"w\", encoding=\"utf-8\") as file:\n",
    "            for page in ocr_result.analyze_result.read_results:\n",
    "                for line in page.lines:\n",
    "                    file.write(line.text + \"\\n\")  # 텍스트만 저장\n",
    "        print(f\"OCR 결과가 '{output_file}' 파일에 저장되었습니다!\")\n",
    "    else:\n",
    "        print(f\"{image_file} OCR 처리가 실패하였습니다.\")\n"
   ]
  }
 ],
 "metadata": {
  "kernelspec": {
   "display_name": "team3-git",
   "language": "python",
   "name": "python3"
  },
  "language_info": {
   "codemirror_mode": {
    "name": "ipython",
    "version": 3
   },
   "file_extension": ".py",
   "mimetype": "text/x-python",
   "name": "python",
   "nbconvert_exporter": "python",
   "pygments_lexer": "ipython3",
   "version": "3.13.1"
  }
 },
 "nbformat": 4,
 "nbformat_minor": 2
}
