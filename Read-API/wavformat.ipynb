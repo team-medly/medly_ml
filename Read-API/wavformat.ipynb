{
 "cells": [
  {
   "cell_type": "markdown",
   "metadata": {},
   "source": [
    "# PCM 16-bit, 16kHz, mono 채널 형식으로 변환 후 덮어쓰기"
   ]
  },
  {
   "cell_type": "code",
   "execution_count": 1,
   "metadata": {},
   "outputs": [
    {
     "name": "stdout",
     "output_type": "stream",
     "text": [
      "✅ 변환 완료 및 덮어쓰기: C:\\AI-team3\\Read-API\\Data\\train_audio\\KMLE\\KMLE_01.wav\n",
      "✅ 변환 완료 및 덮어쓰기: C:\\AI-team3\\Read-API\\Data\\train_audio\\KMLE\\KMLE_02.wav\n",
      "✅ 변환 완료 및 덮어쓰기: C:\\AI-team3\\Read-API\\Data\\train_audio\\KMLE\\KMLE_03.wav\n",
      "✅ 변환 완료 및 덮어쓰기: C:\\AI-team3\\Read-API\\Data\\train_audio\\KMLE\\KMLE_04.wav\n",
      "✅ 변환 완료 및 덮어쓰기: C:\\AI-team3\\Read-API\\Data\\train_audio\\KMLE\\KMLE_05.wav\n",
      "🔹 모든 WAV 파일 변환 및 덮어쓰기 완료! 폴더: C:\\AI-team3\\Read-API\\Data\\train_audio\\KMLE\n"
     ]
    }
   ],
   "source": [
    "import os\n",
    "import subprocess\n",
    "\n",
    "def convert_audio_for_azure(file_path):\n",
    "    \"\"\"\n",
    "    FFmpeg를 사용하여 오디오 파일을 Azure Speech STT 학습용 포맷(PCM 16-bit, 16kHz, Mono)으로 변환\n",
    "    - 원본 파일명 그대로 유지하고 덮어쓰기\n",
    "    \"\"\"\n",
    "    temp_file = file_path + \"_temp.wav\"  # 임시 파일 생성\n",
    "\n",
    "    cmd = [\n",
    "        \"ffmpeg\",\n",
    "        \"-i\", file_path,                # 입력 파일\n",
    "        \"-ac\", \"1\",                      # Mono 채널 변환\n",
    "        \"-ar\", \"16000\",                  # 샘플링 레이트 변환 (16kHz)\n",
    "        \"-acodec\", \"pcm_s16le\",          # PCM 16-bit 변환\n",
    "        temp_file\n",
    "    ]\n",
    "\n",
    "    subprocess.run(cmd, stdout=subprocess.PIPE, stderr=subprocess.PIPE)\n",
    "\n",
    "    # 변환이 완료되면 원본 파일을 덮어쓰기\n",
    "    if os.path.exists(temp_file):\n",
    "        os.replace(temp_file, file_path)  # 임시 파일을 원본 파일로 덮어쓰기\n",
    "        print(f\"✅ 변환 완료 및 덮어쓰기: {file_path}\")\n",
    "    else:\n",
    "        print(f\"❌ 변환 실패: {file_path}\")\n",
    "\n",
    "def process_folder(folder_path):\n",
    "    \"\"\"\n",
    "    폴더 내 모든 WAV 파일을 변환 및 덮어쓰기\n",
    "    \"\"\"\n",
    "    if not os.path.exists(folder_path):\n",
    "        print(f\"❌ 폴더가 존재하지 않습니다: {folder_path}\")\n",
    "        return\n",
    "\n",
    "    files = [f for f in os.listdir(folder_path) if f.lower().endswith(\".wav\")]\n",
    "\n",
    "    if not files:\n",
    "        print(\"🔹 변환할 WAV 파일이 없습니다.\")\n",
    "        return\n",
    "\n",
    "    for file in files:\n",
    "        file_path = os.path.join(folder_path, file)\n",
    "        convert_audio_for_azure(file_path)\n",
    "\n",
    "    print(f\"🔹 모든 WAV 파일 변환 및 덮어쓰기 완료! 폴더: {folder_path}\")\n",
    "\n",
    "# 실행 예시\n",
    "folder_path = r\"C:\\AI-team3\\Read-API\\Data\\train_audio\\KMLE\"\n",
    "process_folder(folder_path)\n"
   ]
  }
 ],
 "metadata": {
  "kernelspec": {
   "display_name": "team3",
   "language": "python",
   "name": "python3"
  },
  "language_info": {
   "codemirror_mode": {
    "name": "ipython",
    "version": 3
   },
   "file_extension": ".py",
   "mimetype": "text/x-python",
   "name": "python",
   "nbconvert_exporter": "python",
   "pygments_lexer": "ipython3",
   "version": "3.13.1"
  }
 },
 "nbformat": 4,
 "nbformat_minor": 2
}
