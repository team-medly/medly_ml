{
 "cells": [
  {
   "cell_type": "markdown",
   "metadata": {},
   "source": [
    "pip install azure-ai-language-conversations==1.1.0\n",
    "pip install azure-ai-textanalytics\n"
   ]
  },
  {
   "cell_type": "code",
   "execution_count": 1,
   "metadata": {},
   "outputs": [
    {
     "ename": "ModuleNotFoundError",
     "evalue": "No module named 'azure.ai'",
     "output_type": "error",
     "traceback": [
      "\u001b[1;31m---------------------------------------------------------------------------\u001b[0m",
      "\u001b[1;31mModuleNotFoundError\u001b[0m                       Traceback (most recent call last)",
      "Cell \u001b[1;32mIn[1], line 1\u001b[0m\n\u001b[1;32m----> 1\u001b[0m \u001b[38;5;28;01mfrom\u001b[39;00m\u001b[38;5;250m \u001b[39m\u001b[38;5;21;01mazure\u001b[39;00m\u001b[38;5;21;01m.\u001b[39;00m\u001b[38;5;21;01mai\u001b[39;00m\u001b[38;5;21;01m.\u001b[39;00m\u001b[38;5;21;01mtextanalytics\u001b[39;00m\u001b[38;5;250m \u001b[39m\u001b[38;5;28;01mimport\u001b[39;00m TextAnalyticsClient, ExtractiveSummaryAction\n\u001b[0;32m      2\u001b[0m \u001b[38;5;28;01mfrom\u001b[39;00m\u001b[38;5;250m \u001b[39m\u001b[38;5;21;01mazure\u001b[39;00m\u001b[38;5;21;01m.\u001b[39;00m\u001b[38;5;21;01mcore\u001b[39;00m\u001b[38;5;21;01m.\u001b[39;00m\u001b[38;5;21;01mcredentials\u001b[39;00m\u001b[38;5;250m \u001b[39m\u001b[38;5;28;01mimport\u001b[39;00m AzureKeyCredential\n\u001b[0;32m      3\u001b[0m \u001b[38;5;28;01mimport\u001b[39;00m\u001b[38;5;250m \u001b[39m\u001b[38;5;21;01mos\u001b[39;00m\n",
      "\u001b[1;31mModuleNotFoundError\u001b[0m: No module named 'azure.ai'"
     ]
    }
   ],
   "source": [
    "from azure.ai.textanalytics import TextAnalyticsClient, ExtractiveSummaryAction\n",
    "from azure.core.credentials import AzureKeyCredential\n",
    "import os\n",
    "\n",
    "# 환경 변수에서 키 가져오기\n",
    "key = os.getenv(\"AZURE_SUBSCRIPTION_KEY\")\n",
    "endpoint = os.getenv(\"AZURE_TEXT_ANALYTICS_ENDPOINT\")\n",
    "\n",
    "# 클라이언트 인증\n",
    "def authenticate_client():\n",
    "    ta_credential = AzureKeyCredential(key)\n",
    "    text_analytics_client = TextAnalyticsClient(\n",
    "            endpoint=endpoint, \n",
    "            credential=ta_credential)\n",
    "    return text_analytics_client\n",
    "\n",
    "client = authenticate_client()\n",
    "\n",
    "# 한글 텍스트 요약 테스트\n",
    "def sample_extractive_summarization(client):\n",
    "    document = [\n",
    "        {\n",
    "            \"id\": \"1\",\n",
    "            \"language\": \"ko\",  # 한글 문서로 설정\n",
    "            \"text\": (\n",
    "                \"안녕하세요 김땡땡님 오늘 어 수술 동의서 때문에 이렇게 설명 드리려고 왔습니다. 내일 수술 맞으시죠?\"\n",
    "                \"아 예\"\n",
    "                \"어 내일 받으실 수술이 복강경 담낭절제술이신데 알고계시죠? 음 김땡땡님의 담낭, 담낭이 이제 급성으로 염증이 생겨서 이제 요거를 떼어내는 수술을 하실거에요. 어 혹시 이해가 안되는 부분이 있으시면 중간중간 질문을 해주세요.\"\n",
    "                \"예 예\"\n",
    "                \"그 이제 담낭 이라는 거에 대해서 설명을 먼저 드릴건데, 이제 간에서 우리가 담즙이라는 액을 만들어요. 그래서 요고 우리의 소화를 도와주는 이제 역할을 하게 되는데, 이제 식사를 하시면 이 담즙을 배출을 해서 이제 지방 성분이 소화가 잘 되도록 좀 도와주는 역할을 하게 돼요. 근데 이제 담석이 생기거나 어 담낭염이 생기거나, 김땡땡님 처럼, 아니면 뭐 큰 용종이 있거나 어떤 이상이 있을 때는 담낭을 이제 제거하게 됩니다. 어. 수술은 전신마취 하고 하실거고요, 이제 이게 배에 한 세 개에서 네 개 정도의 쪼꼬만한 이제 절개를 해가지고 그 복강경이라고 하는 이제 카메라랑 기구를 이제 삽입을 해가지고 진행을 하게 되세요. 해서 이제 갯수는 수술을 하면서 이제 좀 늘어날 수도 있는데 보통은 세 네개라고 생각하시면 되고, 이제 절개한 부위를 통해서 이제 배에다 가스, 이산화탄소 가스를 주입해서 이제 좀 빵빵하게 만든 다음에 이제 기구를 사용해서 담낭을 이제 담관하고 간에서 분리해서 제거를 하게 돼요.\"\n",
    "                \"아 예 그 뭐 수술 하다가 중간에 이제 배 가르는 개복 수술로 바뀔 수도 있다고 들었는데 그럴 가능성도 있습니까?\"\n",
    "                \"아 네 그 복강경으로 진행하다가 염증이 심하거나 출혈이 좀 이제 지혈이 되지 않을 경우가 생긴다면은 안전을 위해서 개복 수술로 전환할 수도 있어요. 이런 경우에는 입원이랑 회복기간이 좀 길어지실 수 있습니다. 복강경 수술을 하시면은 개복 수술에 비해서 회복 속도도 빠르고 입원 기간도 짧아서 좀 어 더 이득이 있고 통증도 적은 편이에요. 그래서 상처 부작용하고 호흡기 합병증도 좀 줄어드시고, 식사도 좀 더 빨리 드실 수 있습니다. 그래서 이제 복강경 담낭절제술이라고 하는 수술은 비교적 안전한 수술이고 그렇긴 하지만 모든 수술에서는 합병증의 가능성이 있어요. 그래서 이것도 마찬가지로 합병증이 발생할 수 있는데 어 담관이 손상되거나 담즙이 이제 손상된 부위로 누출되는 경우가 있어요. 그리고 이제 담관이 협착이 돼서 어 문제가 생길수도 있고, 크흠, 수술 중이나 수술 후에 출혈이 발생할 수 있구요, 아주 심한 경우에는 수술적으로 다시 이제 처치를 해야될 필요가 있을 수도 있습니다. 그리고 어 심한 염증이 있을 경우에는 감염이나 복강내 농양이 생겨서 추가 치료가 필요할 수도 있구요, 어 주위 장기, 주위엔 이제 위랑 십이지장, 간 이런 장기들이 있는데, 어 이런 장기가 손상되실 수도 있어요. 그리고 상처, 이제 그 절개 부위가 있기 때문에 그 상처 부위가 부작용이 생길 수도 있지만 대부분은 잘 회복되시는 편이세요. 그리고 전신마취 후에는 어떤 수술을 하던 호흡기나 심혈관계 합병증의 가능성이 있어요. 특히, 이제 김땡땡님 처럼 고혈압이나 당뇨 같은 기저질환이 있으신 경우에는 훨씬 더 주의를 하셔야 됩니다.\"\n",
    "                \"아 거 무섭네요. 허허. 담즙 누출이라고 하셨는데 그게, 그게 뭔, 뭔가요? 그거 생기면 어떻게 하는건가요?\"\n",
    "                \"아 담즙 누출이라는 거는, 이제 담낭이랑 간에 담즙이 이제 다른, 바깥으로 이제 새어나가는 경우를 말씀드리는건데, 이제 이런게 생길 경우에는 통증이 느껴지고 발열같은 증상이 나타나실 수 있어요. 그래서 이렇게 되는 경우에는 항생제 치료를 우선적으로 해야되고, 어 그 누출 부위를 바깥으로 빼주는 뭔가 장치를 하거나 경우에 따라서는 추가 수술이 필요하실 수도 있습니다. 근데, 일단은 그렇게 되지 않도록 최선을 다 할거고요, 어 수술하고 나서는 당연히 통증이 있으실 수 있는데 수술 후의 통증은 진통제로 관리 가능하시고, 복강경 수술은 특히 개복술에 비해서는 통증이 적어서 빠르게 일상생활로 복귀하실 수 있어요. 하지만 이제 무리한 활동은 처음엔 좀 피하셔야겠죠.\"\n",
    "                \"아 복부 불편감이 계속 될 수도 있나요? 막 너무 아픈거 아닌가요?\"\n",
    "                \"아 예 그 통증은 그래도 진통제로 조절이 잘 되시는 편이고, 이제 그 외에도 복부 불편감, 이게 소화가 잘 안되고 그런 증상이 일시적으로 나타나실 수 있어요. 근데 증상이 계속되면 약물로 조절 할겁니다.\"\n",
    "                \"아 계속 금식중인데 수술하고나서 당뇨약은 다시 다시 먹나요?\"\n",
    "                \"아 네 지금은 이제 병원에서 혈당을 조절해드리고 있는데 이제 금식이 풀리면, 수술하고나서 식사를 하시기 시작 하시면, 전에 복용하시던 당뇨약을 다시 시작할 예정이에요. 그래서 요고는 퇴원 하실 때 세부적으로 다시 잘 알려드리겠습니다.\"\n",
    "                \"아 고혈압 약은요?\"\n",
    "                \"네 고혈압 약도 당뇨약처럼 마찬가지로 수술 전 후에 복용하실거에요. 그래서 고것도 나중에 다시 안내해드릴거에요.\"\n",
    "                \"예 알겠습니다. 잘 부탁드립니다.\"\n",
    "                \"네 너무 걱정하시마시고 내일 예정대로 수술하시고 잘 회복하시길 바라겠습니다.\"\n",
    "            ),\n",
    "        }\n",
    "    ]\n",
    "\n",
    "    poller = client.begin_analyze_actions(\n",
    "        document,\n",
    "        actions=[\n",
    "            ExtractiveSummaryAction(\n",
    "                max_sentence_count=20,  # 문장 개수는 넉넉하게 설정\n",
    "                rank_score_threshold=0.7  # 중요한 문장만 포함 (0~1 사이 값, 기본값 없음)\n",
    "            )\n",
    "        ]\n",
    "    )\n",
    "\n",
    "    document_results = poller.result()\n",
    "    for result in document_results:\n",
    "        extract_summary_result = result[0]  # 첫 번째 문서, 첫 번째 결과\n",
    "        if extract_summary_result.is_error:\n",
    "            print(f\"에러 발생: 코드 {extract_summary_result.code}, 메시지 {extract_summary_result.message}\")\n",
    "        else:\n",
    "            print(\"\\n[추출된 요약]\")\n",
    "            for idx, sentence in enumerate(extract_summary_result.sentences, start=1):\n",
    "                print(f\"{idx}. {sentence.text}\")  # 문장 번호를 붙여 가독성 향상\n",
    "            \n",
    "\n",
    "sample_extractive_summarization(client)\n"
   ]
  },
  {
   "cell_type": "code",
   "execution_count": 1,
   "metadata": {},
   "outputs": [
    {
     "name": "stdout",
     "output_type": "stream",
     "text": [
      "❌ 요약 실패: {'error': {'code': '404', 'message': 'Resource not found'}}\n"
     ]
    }
   ],
   "source": [
    "import requests\n",
    "import json\n",
    "import os\n",
    "from dotenv import load_dotenv\n",
    "\n",
    "# .env 파일 로드\n",
    "load_dotenv()\n",
    "\n",
    "# Azure Summarization API 설정 (환경 변수에서 가져오기)\n",
    "subscription_key = os.getenv(\"AZURE_SUBSCRIPTION_KEY\")\n",
    "endpoint = os.getenv(\"AZURE_TEXT_ANALYTICS_ENDPOINT\")\n",
    "api_version = \"2023-04-15-preview\"  # 최신 버전 사용\n",
    "\n",
    "# 요약할 텍스트 입력\n",
    "text_to_summarize = \"\"\"\n",
    "담낭절제술은 담낭에 문제가 발생했을 때 시행되는 수술로, 복강경을 이용한 최소침습적 방법과 개복 수술이 있습니다. \n",
    "복강경 수술은 회복이 빠르고 흉터가 적으며 입원 기간이 짧습니다. 하지만 경우에 따라 개복 수술이 필요할 수도 있습니다. \n",
    "담낭 절제술의 주요 합병증으로는 출혈, 감염, 담관 손상이 있으며, 이를 예방하기 위해 수술 전후 관리가 중요합니다. \n",
    "\"\"\"\n",
    "\n",
    "# API 요청 URL\n",
    "url = f\"{endpoint}/language/analyze-text?api-version={api_version}\"\n",
    "\n",
    "# 요청 헤더 설정\n",
    "headers = {\n",
    "    \"Ocp-Apim-Subscription-Key\": subscription_key,\n",
    "    \"Content-Type\": \"application/json\"\n",
    "}\n",
    "\n",
    "# 요청 데이터 (문서 리스트)\n",
    "documents = {\n",
    "    \"kind\": \"Summarization\",\n",
    "    \"analysisInput\": {\n",
    "        \"documents\": [\n",
    "            {\"id\": \"1\", \"language\": \"ko\", \"text\": text_to_summarize}\n",
    "        ]\n",
    "    },\n",
    "    \"parameters\": {\n",
    "        \"sentenceCount\": 3  # 요약할 문장 수 (조절 가능)\n",
    "    }\n",
    "}\n",
    "\n",
    "# API 호출\n",
    "response = requests.post(url, headers=headers, json=documents)\n",
    "result = response.json()\n",
    "\n",
    "# 결과 출력\n",
    "if \"results\" in result:\n",
    "    summarized_text = \" \".join(result[\"results\"][\"documents\"][0][\"summarization\"])\n",
    "    print(\"📌 Summarized Text:\\n\", summarized_text)\n",
    "else:\n",
    "    print(\"❌ 요약 실패:\", result)\n"
   ]
  }
 ],
 "metadata": {
  "kernelspec": {
   "display_name": "team3-git",
   "language": "python",
   "name": "python3"
  },
  "language_info": {
   "codemirror_mode": {
    "name": "ipython",
    "version": 3
   },
   "file_extension": ".py",
   "mimetype": "text/x-python",
   "name": "python",
   "nbconvert_exporter": "python",
   "pygments_lexer": "ipython3",
   "version": "3.13.1"
  }
 },
 "nbformat": 4,
 "nbformat_minor": 2
}
