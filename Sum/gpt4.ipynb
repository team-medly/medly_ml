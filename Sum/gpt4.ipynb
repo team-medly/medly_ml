{
 "cells": [
  {
   "cell_type": "markdown",
   "metadata": {},
   "source": [
    "# GPT-4 Fine-tuning으로 Summarize 하기"
   ]
  },
  {
   "cell_type": "markdown",
   "metadata": {},
   "source": [
    "pip install azure-cli\n",
    "pip install openai azure-identity"
   ]
  }
 ],
 "metadata": {
  "kernelspec": {
   "display_name": "team3-git",
   "language": "python",
   "name": "python3"
  },
  "language_info": {
   "name": "python",
   "version": "3.13.1"
  }
 },
 "nbformat": 4,
 "nbformat_minor": 2
}
